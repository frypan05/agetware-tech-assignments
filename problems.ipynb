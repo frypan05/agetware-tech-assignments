{
 "cells": [
  {
   "cell_type": "markdown",
   "metadata": {},
   "source": [
    "### Problem 1: Caesar Cipher encoding and decoding"
   ]
  },
  {
   "cell_type": "markdown",
   "metadata": {},
   "source": [
    "*In cryptography, a Caesar cipher, also known as Caesar's cipher, the shift cipher, Caesar's code, or Caesar shift, is one of the simplest and most widely known encryption techniques. It is a type of substitution cipher in which each letter in the plaintext is replaced by a letter some fixed number of positions down the alphabet.*\n",
    "*For example, with a left shift of 3, D would be replaced by A, E would become B, and so on. The method is named after Julius Caesar, who used it in his private correspondence*\n",
    "*Write code that implements encoding and decoding of a message.*\n",
    "*The parameters for the methods would be the message to be encoded / decoded and the length of the shift.*"
   ]
  },
  {
   "cell_type": "code",
   "execution_count": 1,
   "metadata": {},
   "outputs": [
    {
     "name": "stdout",
     "output_type": "stream",
     "text": [
      "Encrypted: Khoor, Zruog!\n",
      "Decrypted: Hello, World!\n"
     ]
    }
   ],
   "source": [
    "def caesar_cipher(text, shift, encrypt=True):\n",
    "    result = \"\"\n",
    "    if not encrypt:\n",
    "        shift = -shift  # Reverse shift for decryption\n",
    "    \n",
    "    for char in text:\n",
    "        if char.isalpha():  # Check if character is a letter\n",
    "            shift_base = ord('A') if char.isupper() else ord('a')\n",
    "            result += chr((ord(char) - shift_base + shift) % 26 + shift_base)\n",
    "        else:\n",
    "            result += char  # Keep non-alphabet characters unchanged\n",
    "    \n",
    "    return result\n",
    "\n",
    "# Example usage:\n",
    "message = \"Hello, World!\"\n",
    "shift_value = 3\n",
    "\n",
    "# Encrypting\n",
    "encrypted = caesar_cipher(message, shift_value, encrypt=True)\n",
    "print(\"Encrypted:\", encrypted)\n",
    "\n",
    "# Decrypting\n",
    "decrypted = caesar_cipher(encrypted, shift_value, encrypt=False)\n",
    "print(\"Decrypted:\", decrypted)"
   ]
  },
  {
   "cell_type": "markdown",
   "metadata": {},
   "source": []
  },
  {
   "cell_type": "markdown",
   "metadata": {},
   "source": [
    "### Problem: Convert number into a comma separated Indian currency format"
   ]
  },
  {
   "cell_type": "markdown",
   "metadata": {},
   "source": [
    "*In Indian numbering system the terms used are different from what is used in the western numbering system.*\n",
    "*Terms like Lakh to represent one hundred thousand and Crore to represent 10 Million.*\n",
    "*Write code that takes as input a floating point number and returns an indian number string representation with commas separating the digits.*\n",
    "*Eg: 123456.7891 should return 1,23,456.7891*"
   ]
  },
  {
   "cell_type": "code",
   "execution_count": null,
   "metadata": {},
   "outputs": [],
   "source": []
  },
  {
   "cell_type": "markdown",
   "metadata": {},
   "source": []
  },
  {
   "cell_type": "markdown",
   "metadata": {},
   "source": [
    "### Problem: Combining two lists"
   ]
  },
  {
   "cell_type": "markdown",
   "metadata": {},
   "source": [
    "***Consider a list of elements within a line having position and values in the following format:\n",
    "\n",
    "*[*\n",
    "    *{*\n",
    "        *\"positions\": [left_position, right_position],*\n",
    "        *\"values\": [value1, value2, ...]*\n",
    "    *},*\n",
    "    *...*\n",
    "*]*\n",
    "\n",
    "*The left_position and right_position represents the position of the element in the line.* \n",
    "*Write code to combine two lists of the above format sorted by the left position.*\n",
    "*Values of the elements are to be combined if more than half of an element is contained within the other and positions of the element that appears first can be considered.*"
   ]
  },
  {
   "cell_type": "markdown",
   "metadata": {},
   "source": []
  }
 ],
 "metadata": {
  "kernelspec": {
   "display_name": "Python 3",
   "language": "python",
   "name": "python3"
  },
  "language_info": {
   "codemirror_mode": {
    "name": "ipython",
    "version": 3
   },
   "file_extension": ".py",
   "mimetype": "text/x-python",
   "name": "python",
   "nbconvert_exporter": "python",
   "pygments_lexer": "ipython3",
   "version": "3.12.3"
  }
 },
 "nbformat": 4,
 "nbformat_minor": 2
}
