{
 "cells": [
  {
   "cell_type": "markdown",
   "metadata": {},
   "source": [
    "### Problem 1: Caesar Cipher encoding and decoding"
   ]
  },
  {
   "cell_type": "markdown",
   "metadata": {},
   "source": [
    "*In cryptography, a Caesar cipher, also known as Caesar's cipher, the shift cipher, Caesar's code, or Caesar shift, is one of the simplest and most widely known encryption techniques. It is a type of substitution cipher in which each letter in the plaintext is replaced by a letter some fixed number of positions down the alphabet.*\n",
    "*For example, with a left shift of 3, D would be replaced by A, E would become B, and so on. The method is named after Julius Caesar, who used it in his private correspondence*\n",
    "*Write code that implements encoding and decoding of a message.*\n",
    "*The parameters for the methods would be the message to be encoded / decoded and the length of the shift.*"
   ]
  },
  {
   "cell_type": "code",
   "execution_count": null,
   "metadata": {
    "vscode": {
     "languageId": "plaintext"
    }
   },
   "outputs": [],
   "source": []
  },
  {
   "cell_type": "markdown",
   "metadata": {},
   "source": []
  },
  {
   "cell_type": "markdown",
   "metadata": {},
   "source": [
    "### Problem: Convert number into a comma separated Indian currency format"
   ]
  },
  {
   "cell_type": "markdown",
   "metadata": {},
   "source": [
    "*In Indian numbering system the terms used are different from what is used in the western numbering system.*\n",
    "*Terms like Lakh to represent one hundred thousand and Crore to represent 10 Million.*\n",
    "*Write code that takes as input a floating point number and returns an indian number string representation with commas separating the digits.*\n",
    "*Eg: 123456.7891 should return 1,23,456.7891*"
   ]
  },
  {
   "cell_type": "code",
   "execution_count": null,
   "metadata": {
    "vscode": {
     "languageId": "plaintext"
    }
   },
   "outputs": [],
   "source": []
  },
  {
   "cell_type": "markdown",
   "metadata": {},
   "source": []
  },
  {
   "cell_type": "markdown",
   "metadata": {},
   "source": [
    "### Problem: Combining two lists"
   ]
  },
  {
   "cell_type": "markdown",
   "metadata": {},
   "source": [
    "***Consider a list of elements within a line having position and values in the following format:\n",
    "\n",
    "*[*\n",
    "    *{*\n",
    "        *\"positions\": [left_position, right_position],*\n",
    "        *\"values\": [value1, value2, ...]*\n",
    "    *},*\n",
    "    *...*\n",
    "*]*\n",
    "\n",
    "*The left_position and right_position represents the position of the element in the line.* \n",
    "*Write code to combine two lists of the above format sorted by the left position.*\n",
    "*Values of the elements are to be combined if more than half of an element is contained within the other and positions of the element that appears first can be considered.*"
   ]
  },
  {
   "cell_type": "markdown",
   "metadata": {},
   "source": []
  }
 ],
 "metadata": {
  "language_info": {
   "name": "python"
  }
 },
 "nbformat": 4,
 "nbformat_minor": 2
}
