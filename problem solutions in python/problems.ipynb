{
 "cells": [
  {
   "cell_type": "markdown",
   "metadata": {},
   "source": [
    "### Problem 1: Caesar Cipher encoding and decoding"
   ]
  },
  {
   "cell_type": "markdown",
   "metadata": {},
   "source": [
    "*In cryptography, a Caesar cipher, also known as Caesar's cipher, the shift cipher, Caesar's code, or Caesar shift, is one of the simplest and most widely known encryption techniques. It is a type of substitution cipher in which each letter in the plaintext is replaced by a letter some fixed number of positions down the alphabet.*\n",
    "*For example, with a left shift of 3, D would be replaced by A, E would become B, and so on. The method is named after Julius Caesar, who used it in his private correspondence*\n",
    "*Write code that implements encoding and decoding of a message.*\n",
    "*The parameters for the methods would be the message to be encoded / decoded and the length of the shift.*"
   ]
  },
  {
   "cell_type": "code",
   "execution_count": 1,
   "metadata": {},
   "outputs": [
    {
     "name": "stdout",
     "output_type": "stream",
     "text": [
      "Encrypted: Khoor, Zruog!\n",
      "Decrypted: Hello, World!\n"
     ]
    }
   ],
   "source": [
    "def caesar_cipher(text, shift, encrypt=True):\n",
    "    result = \"\"\n",
    "    if not encrypt:\n",
    "        shift = -shift  # Reverse shift for decryption\n",
    "    \n",
    "    for char in text:\n",
    "        if char.isalpha():  # Check if character is a letter\n",
    "            shift_base = ord('A') if char.isupper() else ord('a')\n",
    "            result += chr((ord(char) - shift_base + shift) % 26 + shift_base)\n",
    "        else:\n",
    "            result += char  # Keep non-alphabet characters unchanged\n",
    "    \n",
    "    return result\n",
    "\n",
    "# Example usage:\n",
    "message = \"Hello, World!\"\n",
    "shift_value = 3\n",
    "\n",
    "# Encrypting\n",
    "encrypted = caesar_cipher(message, shift_value, encrypt=True)\n",
    "print(\"Encrypted:\", encrypted)\n",
    "\n",
    "# Decrypting\n",
    "decrypted = caesar_cipher(encrypted, shift_value, encrypt=False)\n",
    "print(\"Decrypted:\", decrypted)"
   ]
  },
  {
   "cell_type": "markdown",
   "metadata": {},
   "source": []
  },
  {
   "cell_type": "markdown",
   "metadata": {},
   "source": [
    "### Problem: Convert number into a comma separated Indian currency format"
   ]
  },
  {
   "cell_type": "markdown",
   "metadata": {},
   "source": [
    "*In Indian numbering system the terms used are different from what is used in the western numbering system.*\n",
    "*Terms like Lakh to represent one hundred thousand and Crore to represent 10 Million.*\n",
    "*Write code that takes as input a floating point number and returns an indian number string representation with commas separating the digits.*\n",
    "*Eg: 123456.7891 should return 1,23,456.7891*"
   ]
  },
  {
   "cell_type": "code",
   "execution_count": 1,
   "metadata": {},
   "outputs": [
    {
     "name": "stdout",
     "output_type": "stream",
     "text": [
      "Formatted Indian Currency: 20.0000\n"
     ]
    }
   ],
   "source": [
    "def format_indian_currency(num):\n",
    "    num_str = f\"{num:.4f}\"  \n",
    "    int_part, dec_part = num_str.split(\".\") \n",
    "\n",
    "    n = len(int_part)\n",
    "    result = \"\"\n",
    "\n",
    "    count = 0\n",
    "    for i in range(n - 1, -1, -1):\n",
    "        result = int_part[i] + result\n",
    "        count += 1\n",
    "\n",
    "        if i > 0:\n",
    "            if (count == 3 and n > 3) or (count > 3 and (count - 3) % 2 == 0):\n",
    "                result = \",\" + result\n",
    "\n",
    "    return result + \".\" + dec_part \n",
    "\n",
    "\n",
    "if __name__ == \"__main__\":\n",
    "    num = float(input(\"Enter a number: \"))\n",
    "    print(\"Formatted Indian Currency:\", format_indian_currency(num))\n"
   ]
  },
  {
   "cell_type": "code",
   "execution_count": null,
   "metadata": {},
   "outputs": [],
   "source": []
  }
 ],
 "metadata": {
  "kernelspec": {
   "display_name": "Python 3",
   "language": "python",
   "name": "python3"
  },
  "language_info": {
   "codemirror_mode": {
    "name": "ipython",
    "version": 3
   },
   "file_extension": ".py",
   "mimetype": "text/x-python",
   "name": "python",
   "nbconvert_exporter": "python",
   "pygments_lexer": "ipython3",
   "version": "3.12.3"
  }
 },
 "nbformat": 4,
 "nbformat_minor": 2
}
